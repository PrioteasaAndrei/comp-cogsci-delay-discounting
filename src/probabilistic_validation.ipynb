{
 "cells": [
  {
   "cell_type": "code",
   "execution_count": 10,
   "metadata": {},
   "outputs": [],
   "source": [
    "import pandas as pd\n",
    "import numpy as np\n",
    "from utils import *\n",
    "import pytensor.tensor as pt  # Import PyTensor (Theano backend)\n",
    "import pickle\n",
    "import xarray as xr"
   ]
  },
  {
   "cell_type": "code",
   "execution_count": 11,
   "metadata": {},
   "outputs": [],
   "source": [
    "df, scaling_factors = read_dd_data('../data/PD_data',standardize=True, reduced_data=True)"
   ]
  },
  {
   "cell_type": "code",
   "execution_count": 12,
   "metadata": {},
   "outputs": [],
   "source": [
    "linear_trace = az.from_netcdf(\"models/linear_model.nc\")\n",
    "quadratic_trace = az.from_netcdf(\"models/quadratic_model.nc\")"
   ]
  },
  {
   "cell_type": "code",
   "execution_count": 13,
   "metadata": {},
   "outputs": [
    {
     "name": "stdout",
     "output_type": "stream",
     "text": [
      "Linear model BIC: 1751.8782103649726\n",
      "Quadratic model BIC: 1724.1631427429559\n"
     ]
    }
   ],
   "source": [
    " # 5. Bayes Factor approximation using BIC\n",
    "def calculate_bic(trace, n_params):\n",
    "    log_likelihood = trace.log_likelihood.log_RT.mean(dim=[\"chain\", \"draw\"]).values\n",
    "    n_samples = len(log_likelihood)\n",
    "    bic = -2 * np.sum(log_likelihood) + n_params * np.log(n_samples)\n",
    "    return bic\n",
    "\n",
    "print(\"Linear model BIC:\",calculate_bic(linear_trace, 2))\n",
    "print(\"Quadratic model BIC:\",calculate_bic(quadratic_trace, 3))"
   ]
  },
  {
   "cell_type": "code",
   "execution_count": 14,
   "metadata": {},
   "outputs": [
    {
     "name": "stdout",
     "output_type": "stream",
     "text": [
      "Linear model AIC: 1742.0626998070084\n",
      "Quadratic model AIC: 1709.4398769060094\n"
     ]
    }
   ],
   "source": [
    "# 6. Akaike Information Criterion (AIC) calculation\n",
    "def calculate_aic(trace, n_params):\n",
    "    log_likelihood = trace.log_likelihood.log_RT.mean(dim=[\"chain\", \"draw\"]).values\n",
    "    aic = -2 * np.sum(log_likelihood) + 2 * n_params\n",
    "    return aic\n",
    "\n",
    "print(\"Linear model AIC:\", calculate_aic(linear_trace, 2))\n",
    "print(\"Quadratic model AIC:\", calculate_aic(quadratic_trace, 3))\n"
   ]
  },
  {
   "cell_type": "markdown",
   "metadata": {},
   "source": [
    "Hypothesis Formulation\n",
    "\n",
    "\n",
    "Null Hypothesis (H₀): The quadratic term (β₂) does not significantly improve reaction time predictions (β₂ is effectively zero across participants)\n",
    "\n",
    "\n",
    "Alternative Hypothesis (H₁): The quadratic term (β₂) significantly improves reaction time predictions (β₂ is meaningfully different from zero)\n"
   ]
  },
  {
   "cell_type": "code",
   "execution_count": 15,
   "metadata": {},
   "outputs": [],
   "source": [
    "def compare_models_with_information_criteria(linear_trace, quadratic_trace):\n",
    "    \"\"\"\n",
    "    Compare linear and quadratic models using WAIC and LOO-CV.\n",
    "    \"\"\"\n",
    "    # Ensure both traces have log_likelihood variables properly defined\n",
    "    linear_waic = az.waic(linear_trace, var_name=\"log_likelihood\")\n",
    "    quadratic_waic = az.waic(quadratic_trace, var_name=\"log_likelihood\")\n",
    "    \n",
    "    linear_loo = az.loo(linear_trace, var_name=\"log_likelihood\")\n",
    "    quadratic_loo = az.loo(quadratic_trace, var_name=\"log_likelihood\")\n",
    "    \n",
    "    # Compare WAIC\n",
    "    waic_diff = linear_waic.waic - quadratic_waic.waic\n",
    "    waic_se = np.sqrt(linear_waic.waic_se**2 + quadratic_waic.waic_se**2)\n",
    "    waic_z = waic_diff / waic_se\n",
    "    waic_p = 2 * (1 - norm.cdf(abs(waic_z)))  # Two-tailed p-value\n",
    "    \n",
    "    # Compare LOO\n",
    "    loo_diff = linear_loo.loo - quadratic_loo.loo\n",
    "    loo_se = np.sqrt(linear_loo.loo_se**2 + quadratic_loo.loo_se**2)\n",
    "    loo_z = loo_diff / loo_se\n",
    "    loo_p = 2 * (1 - norm.cdf(abs(loo_z)))  # Two-tailed p-value\n",
    "    \n",
    "    print(f\"WAIC: Linear = {linear_waic.waic:.2f}, Quadratic = {quadratic_waic.waic:.2f}\")\n",
    "    print(f\"WAIC difference: {waic_diff:.2f} ± {waic_se:.2f}, p = {waic_p:.4f}\")\n",
    "    print(f\"LOO: Linear = {linear_loo.loo:.2f}, Quadratic = {quadratic_loo.loo:.2f}\")\n",
    "    print(f\"LOO difference: {loo_diff:.2f} ± {loo_se:.2f}, p = {loo_p:.4f}\")\n",
    "    \n",
    "    return {\n",
    "        \"waic_diff\": waic_diff,\n",
    "        \"waic_p\": waic_p,\n",
    "        \"loo_diff\": loo_diff,\n",
    "        \"loo_p\": loo_p,\n",
    "        \"quadratic_better_waic\": waic_diff > 0 and waic_p < 0.05,\n",
    "        \"quadratic_better_loo\": loo_diff > 0 and loo_p < 0.05\n",
    "    }"
   ]
  },
  {
   "cell_type": "code",
   "execution_count": 16,
   "metadata": {},
   "outputs": [],
   "source": [
    "# hypothesis testing\n",
    "def test_beta2_significance(trace):\n",
    "    \"\"\"\n",
    "    Test if the quadratic parameter (beta2) is significantly different from zero\n",
    "    by examining posterior distributions.\n",
    "    \"\"\"\n",
    "    # Extract β₂ posterior samples (both group-level and individual-level)\n",
    "    mu_beta2 = trace.posterior[\"group_beta2_mu\"].values.flatten()\n",
    "    individual_beta2 = trace.posterior[\"beta2\"].values\n",
    "    \n",
    "    # Group-level analysis\n",
    "    beta2_mean = np.mean(mu_beta2)\n",
    "    beta2_hdi = az.hdi(mu_beta2, hdi_prob=0.95)\n",
    "    zero_in_hdi = (beta2_hdi[0] <= 0 <= beta2_hdi[1])\n",
    "    \n",
    "    # Individual-level analysis\n",
    "    n_participants = individual_beta2.shape[2]\n",
    "    significant_participants = 0\n",
    "    \n",
    "    for p in range(n_participants):\n",
    "        participant_beta2 = individual_beta2[:, :, p].flatten()\n",
    "        p_hdi = az.hdi(participant_beta2, hdi_prob=0.95)\n",
    "        if not (p_hdi[0] <= 0 <= p_hdi[1]):\n",
    "            significant_participants += 1\n",
    "    \n",
    "    proportion_significant = significant_participants / n_participants\n",
    "    \n",
    "    # Print results\n",
    "    print(f\"Group-level β₂ mean: {beta2_mean:.4f}\")\n",
    "    print(f\"Group-level β₂ 95% HDI: [{beta2_hdi[0]:.4f}, {beta2_hdi[1]:.4f}]\")\n",
    "    print(f\"Zero within HDI: {zero_in_hdi}\")\n",
    "    print(f\"Participants with significant β₂: {significant_participants}/{n_participants} ({proportion_significant*100:.1f}%)\")\n",
    "    \n",
    "    return {\n",
    "        \"group_level_significant\": not zero_in_hdi,\n",
    "        \"individual_significant_proportion\": proportion_significant,\n",
    "        \"beta2_mean\": beta2_mean,\n",
    "        \"beta2_hdi\": beta2_hdi\n",
    "    }"
   ]
  },
  {
   "cell_type": "code",
   "execution_count": 17,
   "metadata": {},
   "outputs": [
    {
     "name": "stdout",
     "output_type": "stream",
     "text": [
      "Group-level β₂ mean: -0.0031\n",
      "Group-level β₂ 95% HDI: [-0.0096, 0.0015]\n",
      "Zero within HDI: True\n",
      "Participants with significant β₂: 1/10 (10.0%)\n"
     ]
    }
   ],
   "source": [
    "results_quadratic = test_beta2_significance(quadratic_trace)"
   ]
  },
  {
   "cell_type": "code",
   "execution_count": 18,
   "metadata": {},
   "outputs": [
    {
     "name": "stdout",
     "output_type": "stream",
     "text": [
      "\n",
      "================================================================================\n",
      "================== QUADRATIC TERM (β₂) SIGNIFICANCE ANALYSIS ===================\n",
      "================================================================================\n",
      "\n",
      "SUMMARY:\n",
      "The analysis shows no significant evidence that the quadratic term (β₂) improves your reaction time model. There is a minimal quadratic effect that is practically indistinguishable from zero.\n",
      "\n",
      "DETAILED ANALYSIS:\n",
      "• Group-level β₂ mean: -0.0031\n",
      "• Group-level β₂ 95% HDI: [-0.0096, 0.0015]\n",
      "• The 95% HDI interval contains zero, meaning we cannot reject the null hypothesis that β₂ = 0 at the group level.\n",
      "• Only 10.0% of participants showed a significant individual effect, suggesting the quadratic pattern is rare in your sample.\n",
      "\n",
      "RECOMMENDATIONS:\n",
      "1. The linear model is likely sufficient; added complexity of the quadratic model is not justified\n",
      "2. Reaction times appear to change approximately linearly with decision difficulty\n",
      "3. Consider exploring alternative predictors or model formulations\n",
      "\n",
      "MODEL SELECTION:\n",
      "✓ The linear model is sufficient; quadratic term not justified\n",
      "\n",
      "================================================================================\n",
      "\n",
      "None\n"
     ]
    }
   ],
   "source": [
    "print(print_beta2_interpretation(results_quadratic))"
   ]
  }
 ],
 "metadata": {
  "kernelspec": {
   "display_name": "humml",
   "language": "python",
   "name": "python3"
  },
  "language_info": {
   "codemirror_mode": {
    "name": "ipython",
    "version": 3
   },
   "file_extension": ".py",
   "mimetype": "text/x-python",
   "name": "python",
   "nbconvert_exporter": "python",
   "pygments_lexer": "ipython3",
   "version": "3.10.13"
  }
 },
 "nbformat": 4,
 "nbformat_minor": 2
}
